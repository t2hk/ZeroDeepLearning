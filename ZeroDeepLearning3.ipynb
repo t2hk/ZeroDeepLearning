{
 "cells": [
  {
   "cell_type": "markdown",
   "metadata": {},
   "source": [
    "# ゼロから作る Deep Learning 3 フレームワーク編"
   ]
  },
  {
   "cell_type": "markdown",
   "metadata": {},
   "source": [
    "## ステップ1 箱としての変数"
   ]
  },
  {
   "cell_type": "code",
   "execution_count": 39,
   "metadata": {},
   "outputs": [],
   "source": [
    "class Variable:\n",
    "  \"\"\" 変数クラス\n",
    "  \n",
    "  使用する変数を格納するためのクラスである。\n",
    "  \n",
    "  Attributes:\n",
    "    data: 対象の変数  \n",
    "  \"\"\"\n",
    "  def __init__(self, data):\n",
    "    \"\"\" 初期化\n",
    "    \n",
    "    Args:\n",
    "      data: 変数\n",
    "    \"\"\"\n",
    "    self.data = data"
   ]
  },
  {
   "cell_type": "code",
   "execution_count": 40,
   "metadata": {},
   "outputs": [
    {
     "name": "stdout",
     "output_type": "stream",
     "text": [
      "1.0\n"
     ]
    }
   ],
   "source": [
    "import numpy as np\n",
    "\n",
    "data = np.array(1.0)\n",
    "x =Variable(data)\n",
    "print(x.data)"
   ]
  },
  {
   "cell_type": "markdown",
   "metadata": {},
   "source": [
    "## ステップ2 Function クラスの実装"
   ]
  },
  {
   "cell_type": "code",
   "execution_count": 42,
   "metadata": {},
   "outputs": [],
   "source": [
    "class Function:\n",
    "  \"\"\" 関数クラス\n",
    "  \n",
    "  関数の基底クラスとして、全ての関数に共通する機能を実装する。\n",
    "  具体的な関数は Function クラスを継承したクラスで実装する。  \n",
    "  \"\"\"\n",
    "  def __call__(self, input):\n",
    "    \"\"\" 関数の実行\n",
    "    \n",
    "    継承クラスにて実装した関数を実行する。\n",
    "    \n",
    "    Args:\n",
    "      input(Variable): 関数の入力値\n",
    "    \n",
    "    Returns:\n",
    "      Variable: 関数の実行結果    \n",
    "    \"\"\" \n",
    "    x = input.data # データを取り出す。\n",
    "    y = self.forward(x) # 具体的な計算は forward メソッドで行う。\n",
    "    output = Variable(y) # Variable として返却する。\n",
    "    return output\n",
    "  \n",
    "  def forward(self, x):\n",
    "    \"\"\" 関数のメソッド\n",
    "    \n",
    "    継承したクラスで実装すること。\n",
    "    \n",
    "    Raises:\n",
    "      NotImplementedError: forward メソッドを実装せずに実行した場合に発生する。    \n",
    "    \"\"\"\n",
    "    raise NotImplementedError()"
   ]
  },
  {
   "cell_type": "code",
   "execution_count": 46,
   "metadata": {},
   "outputs": [],
   "source": [
    "# 入力値を二乗するクラス。\n",
    "class Square(Function):\n",
    "  \"\"\" 二乗計算\n",
    "  \n",
    "  入力値の二乗を計算する。\n",
    "  \n",
    "  Args:\n",
    "    x(Variable): 入力値\n",
    "  \n",
    "  Returns:\n",
    "    Variable: 二乗した結果\n",
    "  \"\"\"  \n",
    "  def forward(self, x):\n",
    "    return x ** 2"
   ]
  },
  {
   "cell_type": "code",
   "execution_count": 47,
   "metadata": {},
   "outputs": [
    {
     "name": "stdout",
     "output_type": "stream",
     "text": [
      "<class '__main__.Variable'>\n",
      "12.25\n"
     ]
    }
   ],
   "source": [
    "x = Variable(np.array(3.5))\n",
    "f = Square()\n",
    "y = f(x)\n",
    "print(type(y))\n",
    "print(y.data)"
   ]
  },
  {
   "cell_type": "markdown",
   "metadata": {},
   "source": [
    "## ステップ3 関数の連結"
   ]
  },
  {
   "cell_type": "code",
   "execution_count": 38,
   "metadata": {},
   "outputs": [],
   "source": [
    "# y = e^x の実装 (e はネイピア数 2.718...)\n",
    "class Exp(Function):\n",
    "  \"\"\" EXP 関数\n",
    "  \n",
    "  e を底とする数値のべき乗を計算する。  \n",
    "  \"\"\"  \n",
    "  def forward(self, x):\n",
    "    return np.exp(x)"
   ]
  },
  {
   "cell_type": "code",
   "execution_count": 31,
   "metadata": {},
   "outputs": [
    {
     "name": "stdout",
     "output_type": "stream",
     "text": [
      "1.648721270700128\n"
     ]
    }
   ],
   "source": [
    "A = Square()\n",
    "B = Exp()\n",
    "C = Square()\n",
    "\n",
    "x =Variable(np.array(0.5))\n",
    "a = A(x)\n",
    "b = B(a)\n",
    "y = C(b)\n",
    "print(y.data)"
   ]
  },
  {
   "cell_type": "markdown",
   "metadata": {},
   "source": [
    "## ステップ4 数値微分"
   ]
  },
  {
   "cell_type": "code",
   "execution_count": null,
   "metadata": {},
   "outputs": [],
   "source": [
    "def numerical_diff(f, x, eps=1e-4):\n",
    "  \"\"\" 数値微分\n",
    "  中心差分近似で数値微分を求める。\n",
    "  {f(x+h) - f(x-h)} / 2h\n",
    "  \n",
    "  Args:\n",
    "    f (Function): 微分の対象となる関数\n",
    "    x (Variable): 微分を求める変数\n",
    "    eps (float, optional): 微小な数値 (初期値は 1e-4)\n",
    "\n",
    "  Returns:\n",
    "    float: 数値微分の結果\n",
    "  \"\"\"\n",
    "  x0 = Variable(x.data - eps)\n",
    "  x1 = Variable(x.data + eps)\n",
    "  y0 = f(x0)\n",
    "  y1 = f(x1)\n",
    "\n",
    "  return (y1.data - y0.data) / (2 * eps)"
   ]
  },
  {
   "cell_type": "code",
   "execution_count": 37,
   "metadata": {},
   "outputs": [
    {
     "name": "stdout",
     "output_type": "stream",
     "text": [
      "<class 'numpy.float64'>\n"
     ]
    }
   ],
   "source": [
    "f = Square()\n",
    "x = Variable(np.array(2.0))\n",
    "dy = numerical_diff(f, x)\n",
    "print(type(dy))"
   ]
  }
 ],
 "metadata": {
  "kernelspec": {
   "display_name": "Python 3",
   "language": "python",
   "name": "python3"
  },
  "language_info": {
   "codemirror_mode": {
    "name": "ipython",
    "version": 3
   },
   "file_extension": ".py",
   "mimetype": "text/x-python",
   "name": "python",
   "nbconvert_exporter": "python",
   "pygments_lexer": "ipython3",
   "version": "3.10.12"
  }
 },
 "nbformat": 4,
 "nbformat_minor": 2
}
