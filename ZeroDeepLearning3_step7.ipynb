{
 "cells": [
  {
   "cell_type": "markdown",
   "metadata": {},
   "source": [
    "# ゼロから作る Deep Learning 3 フレームワーク編"
   ]
  },
  {
   "cell_type": "markdown",
   "metadata": {},
   "source": [
    "## ステップ7 バックプロパゲーションの自動化"
   ]
  },
  {
   "cell_type": "code",
   "execution_count": 27,
   "metadata": {},
   "outputs": [],
   "source": [
    "import numpy as np"
   ]
  },
  {
   "cell_type": "code",
   "execution_count": null,
   "metadata": {},
   "outputs": [],
   "source": [
    "class Variable:\n",
    "  \"\"\" 変数クラス\n",
    "  \n",
    "  使用する変数を格納するためのクラスである。\n",
    "  \n",
    "  Attributes:\n",
    "    data: 対象の変数\n",
    "    grad: data を微分した値\n",
    "    creator: この変数を生成した関数\n",
    "  \"\"\"\n",
    "  def __init__(self, data):\n",
    "    \"\"\" 初期化\n",
    "    \n",
    "    Args:\n",
    "      data: 変数\n",
    "    \"\"\"\n",
    "    self.data = data\n",
    "    self.grad = None\n",
    "    self.creator = None\n",
    "\n",
    "  def set_creator(self, func):\n",
    "    self.creator = func"
   ]
  },
  {
   "cell_type": "code",
   "execution_count": 29,
   "metadata": {},
   "outputs": [],
   "source": [
    "class Function:\n",
    "  \"\"\" 関数クラス\n",
    "  \n",
    "  関数の基底クラスとして、全ての関数に共通する機能を実装する。\n",
    "  具体的な関数は Function クラスを継承したクラスで実装する。  \n",
    "  \"\"\"\n",
    "  def __call__(self, input):\n",
    "    \"\"\" 関数の実行\n",
    "    \n",
    "    継承クラスにて実装した関数を実行する。\n",
    "    \n",
    "    Args:\n",
    "      input(Variable): 関数の入力値\n",
    "    \n",
    "    Returns:\n",
    "      Variable: 関数の実行結果    \n",
    "    \"\"\" \n",
    "    x = input.data # データを取り出す。\n",
    "    y = self.forward(x) # 具体的な計算は forward メソッドで行う。\n",
    "    output = Variable(y) # Variable として返却する。\n",
    "    output.set_creator(self) # 出力変数に自分自身の関数を設定する。\n",
    "    # 入出力変数を保持しておく。\n",
    "    self.input = input \n",
    "    self.output = output \n",
    "    return output\n",
    "  \n",
    "  def forward(self, x):\n",
    "    \"\"\" 関数のメソッド\n",
    "    \n",
    "    継承したクラスで実装すること。\n",
    "    \n",
    "    Args:\n",
    "      x(Variable): 関数の入力値\n",
    "    \n",
    "    Raises:\n",
    "      NotImplementedError: forward メソッドを実装せずに実行した場合に発生する。    \n",
    "    \"\"\"\n",
    "    raise NotImplementedError()\n",
    "  \n",
    "  def backward(self, gy):\n",
    "    \"\"\" 逆伝播(バックプロパゲーション)用のメソッド\n",
    "    \n",
    "    継承したクラスで実装すること。\n",
    "\n",
    "    Args:\n",
    "      gy(Variable): 出力側から伝わる微分の値\n",
    "          \n",
    "    Raises:\n",
    "      NotImplementedError: forward メソッドを実装せずに実行した場合に発生する。    \n",
    "    \"\"\"\n",
    "    raise NotImplementedError()"
   ]
  },
  {
   "cell_type": "code",
   "execution_count": 30,
   "metadata": {},
   "outputs": [],
   "source": [
    "class Square(Function):\n",
    "  \"\"\" 二乗計算クラス\n",
    "  \n",
    "  入力値の二乗を計算する。\n",
    "  \"\"\"\n",
    "  def forward(self, x):\n",
    "    \"\"\" 二乗計算\n",
    "  \n",
    "    入力値の二乗を計算する。\n",
    "    \n",
    "    Args:\n",
    "      x(Variable): 入力値\n",
    "    \n",
    "    Returns:\n",
    "      Variable: 二乗した結果\n",
    "    \"\"\"\n",
    "    y = x ** 2\n",
    "    return y\n",
    "\n",
    "  def backward(self, gy):\n",
    "    \"\"\" 二乗計算の逆伝播メソッド\n",
    "    \n",
    "    二乗計算の逆伝播として、出力側から渡される微分 (gy) と y=x^2 の微分を掛ける。\n",
    "    \n",
    "    Args:\n",
    "      x(Variable): 出力側から伝わる微分の値\n",
    "    \n",
    "    Returns:\n",
    "      Variable: 二乗計算のバックプロパゲーション結果\n",
    "    \"\"\"\n",
    "    x = self.input.data\n",
    "    gx = 2 * x * gy\n",
    "    return gx"
   ]
  },
  {
   "cell_type": "code",
   "execution_count": 31,
   "metadata": {},
   "outputs": [],
   "source": [
    "class Exp(Function):\n",
    "  \"\"\" EXP 関数\n",
    "  \n",
    "  e を底とする数値のべき乗を計算する。  \n",
    "  y = e^x の実装 (e はネイピア数 2.718...)\n",
    "  \"\"\"  \n",
    "  def forward(self, x):\n",
    "    \"\"\" e のべき乗を計算する。\n",
    "  \n",
    "    自然対数 e を入力値でべき乗する。\n",
    "    \n",
    "    Args:\n",
    "      x(Variable): 入力値\n",
    "    \n",
    "    Returns:\n",
    "      Variable: e を x でべき乗した結果\n",
    "    \"\"\"\n",
    "    y = np.exp(x)\n",
    "    return y\n",
    "  \n",
    "  def backward(self, gy):\n",
    "    \"\"\" e のべき乗の逆伝播メソッド\n",
    "    \n",
    "    e のべき乗の逆伝播として、出力側から渡される微分 (gy) と e^x の微分である e^x を掛ける。\n",
    "    \n",
    "    Args:\n",
    "      x(Variable): 出力側から伝わる微分の値\n",
    "    \n",
    "    Returns:\n",
    "      Variable: e のべき乗のバックプロパゲーション結果\n",
    "    \"\"\"\n",
    "    x = self.input.data\n",
    "    gx = np.exp(x) * gy\n",
    "    return gx"
   ]
  },
  {
   "cell_type": "code",
   "execution_count": 32,
   "metadata": {},
   "outputs": [
    {
     "ename": "AttributeError",
     "evalue": "'Variable' object has no attribute 'set_creator'",
     "output_type": "error",
     "traceback": [
      "\u001b[0;31m---------------------------------------------------------------------------\u001b[0m",
      "\u001b[0;31mAttributeError\u001b[0m                            Traceback (most recent call last)",
      "Cell \u001b[0;32mIn[32], line 6\u001b[0m\n\u001b[1;32m      3\u001b[0m C \u001b[38;5;241m=\u001b[39m Square()\n\u001b[1;32m      5\u001b[0m x \u001b[38;5;241m=\u001b[39mVariable(np\u001b[38;5;241m.\u001b[39marray(\u001b[38;5;241m0.5\u001b[39m))\n\u001b[0;32m----> 6\u001b[0m a \u001b[38;5;241m=\u001b[39m \u001b[43mA\u001b[49m\u001b[43m(\u001b[49m\u001b[43mx\u001b[49m\u001b[43m)\u001b[49m\n\u001b[1;32m      7\u001b[0m b \u001b[38;5;241m=\u001b[39m B(a)\n\u001b[1;32m      8\u001b[0m y \u001b[38;5;241m=\u001b[39m C(b)\n",
      "Cell \u001b[0;32mIn[29], line 21\u001b[0m, in \u001b[0;36mFunction.__call__\u001b[0;34m(self, input)\u001b[0m\n\u001b[1;32m     19\u001b[0m y \u001b[38;5;241m=\u001b[39m \u001b[38;5;28mself\u001b[39m\u001b[38;5;241m.\u001b[39mforward(x) \u001b[38;5;66;03m# 具体的な計算は forward メソッドで行う。\u001b[39;00m\n\u001b[1;32m     20\u001b[0m output \u001b[38;5;241m=\u001b[39m Variable(y) \u001b[38;5;66;03m# Variable として返却する。\u001b[39;00m\n\u001b[0;32m---> 21\u001b[0m \u001b[43moutput\u001b[49m\u001b[38;5;241;43m.\u001b[39;49m\u001b[43mset_creator\u001b[49m(\u001b[38;5;28mself\u001b[39m) \u001b[38;5;66;03m# 出力変数に自分自身の関数を設定する。\u001b[39;00m\n\u001b[1;32m     22\u001b[0m \u001b[38;5;66;03m# 入出力変数を保持しておく。\u001b[39;00m\n\u001b[1;32m     23\u001b[0m \u001b[38;5;28mself\u001b[39m\u001b[38;5;241m.\u001b[39minput \u001b[38;5;241m=\u001b[39m \u001b[38;5;28minput\u001b[39m \n",
      "\u001b[0;31mAttributeError\u001b[0m: 'Variable' object has no attribute 'set_creator'"
     ]
    }
   ],
   "source": [
    "A = Square()\n",
    "B = Exp()\n",
    "C = Square()\n",
    "\n",
    "x =Variable(np.array(0.5))\n",
    "a = A(x)\n",
    "b = B(a)\n",
    "y = C(b)\n",
    "print(y.data)\n",
    "\n",
    "assert y.creator == C\n",
    "assert y.creator.input == b\n",
    "assert y.creator.input.creator == B\n",
    "assert y.creator.input.creator.input == a\n",
    "assert y.creator.input.creator.input.creator == A\n",
    "assert y.creator.input.creator.input.creator.input == x"
   ]
  },
  {
   "cell_type": "markdown",
   "metadata": {},
   "source": [
    "## ステップ4 数値微分"
   ]
  },
  {
   "cell_type": "code",
   "execution_count": null,
   "metadata": {},
   "outputs": [],
   "source": [
    "def numerical_diff(f, x, eps=1e-4):\n",
    "  \"\"\" 数値微分\n",
    "  中心差分近似で数値微分を求める。\n",
    "  {f(x+h) - f(x-h)} / 2h\n",
    "  \n",
    "  Args:\n",
    "    f (Function): 微分の対象となる関数\n",
    "    x (Variable): 微分を求める変数\n",
    "    eps (float, optional): 微小な数値 (初期値は 1e-4)\n",
    "\n",
    "  Returns:\n",
    "    float: 数値微分の結果\n",
    "  \"\"\"\n",
    "  x0 = Variable(x.data - eps)\n",
    "  x1 = Variable(x.data + eps)\n",
    "  y0 = f(x0)\n",
    "  y1 = f(x1)\n",
    "\n",
    "  return (y1.data - y0.data) / (2 * eps)"
   ]
  },
  {
   "cell_type": "code",
   "execution_count": null,
   "metadata": {},
   "outputs": [],
   "source": [
    "f = Square()\n",
    "x = Variable(np.array(2.0))\n",
    "dy = numerical_diff(f, x)\n",
    "print(type(dy))"
   ]
  },
  {
   "cell_type": "code",
   "execution_count": null,
   "metadata": {},
   "outputs": [],
   "source": [
    "# 合成関数の微分\n",
    "# y = (e^(x^2))^2\n",
    "def f(x):\n",
    "  A = Square()\n",
    "  B = Exp()\n",
    "  C = Square()\n",
    "  return C(B(A(x)))\n",
    "\n",
    "x = Variable(np.array(0.5))\n",
    "dy = numerical_diff(f, x)\n",
    "print(dy)"
   ]
  },
  {
   "cell_type": "markdown",
   "metadata": {},
   "source": [
    "## ステップ6 手作業によるバックプロパゲーション"
   ]
  },
  {
   "cell_type": "code",
   "execution_count": null,
   "metadata": {},
   "outputs": [],
   "source": [
    "# 順伝播\n",
    "# x(0.5) => A(x^2) => B(e^a) => C(b^2) => y\n",
    "A = Square()\n",
    "B = Exp()\n",
    "C = Square()\n",
    "\n",
    "x = Variable(np.array(0.5))\n",
    "a = A(x)\n",
    "b = B(a)\n",
    "y = C(b)\n",
    "\n",
    "# 逆伝播\n",
    "# 1 => y.grad => C.backward => b.grad => B.backward => a.grad => A.backward => x.grad\n",
    "y.grad = np.array(1.0)\n",
    "b.grad = C.backward(y.grad)\n",
    "a.grad = B.backward(b.grad)\n",
    "x.grad = A.backward(a.grad)\n",
    "\n",
    "print(x.grad)"
   ]
  }
 ],
 "metadata": {
  "kernelspec": {
   "display_name": "Python 3",
   "language": "python",
   "name": "python3"
  },
  "language_info": {
   "codemirror_mode": {
    "name": "ipython",
    "version": 3
   },
   "file_extension": ".py",
   "mimetype": "text/x-python",
   "name": "python",
   "nbconvert_exporter": "python",
   "pygments_lexer": "ipython3",
   "version": "3.10.12"
  }
 },
 "nbformat": 4,
 "nbformat_minor": 2
}
