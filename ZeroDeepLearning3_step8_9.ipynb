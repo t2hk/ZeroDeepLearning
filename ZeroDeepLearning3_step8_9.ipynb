{
 "cells": [
  {
   "cell_type": "markdown",
   "metadata": {},
   "source": [
    "# ゼロから作る Deep Learning 3 フレームワーク編"
   ]
  },
  {
   "cell_type": "markdown",
   "metadata": {},
   "source": [
    "## ステップ8 再帰からループへ\n",
    "## ステップ9 関数をより便利に"
   ]
  },
  {
   "cell_type": "code",
   "execution_count": 3,
   "metadata": {},
   "outputs": [],
   "source": [
    "import numpy as np"
   ]
  },
  {
   "cell_type": "code",
   "execution_count": 17,
   "metadata": {},
   "outputs": [],
   "source": [
    "class Variable:\n",
    "  \"\"\" 変数クラス\n",
    "  \n",
    "  使用する変数を格納するためのクラスである。\n",
    "  \n",
    "  Attributes:\n",
    "    data: 対象の変数\n",
    "    grad: data を微分した値\n",
    "    creator: この変数を生成した関数\n",
    "  \"\"\"\n",
    "  def __init__(self, data):\n",
    "    \"\"\" 初期化\n",
    "    \n",
    "    Args:\n",
    "      data: 変数\n",
    "    \"\"\"\n",
    "    if data is not None:\n",
    "      if not isinstance(data, np.ndarray):\n",
    "        raise TypeError('{} is not supported'.format(type(data)))\n",
    "      \n",
    "    self.data = data\n",
    "    self.grad = None\n",
    "    self.creator = None\n",
    "\n",
    "  def set_creator(self, func):\n",
    "    self.creator = func\n",
    "    \n",
    "  def backward(self):\n",
    "    \"\"\" バックワード\n",
    "    逆伝播\n",
    "    \"\"\"\n",
    "    \n",
    "    # grad が存在しない場合、自動的に微分を生成する。\n",
    "    if self.grad is None:\n",
    "      self.grad = np.ones_like(self.data) # self.data と同じ形状・データ型の要素 1 の ndarray インスタンスを作る。\n",
    "    \n",
    "    funcs = [self.creator]\n",
    "    while funcs:\n",
    "      # 関数を取得し、その入出力を使って逆伝播を実行する。\n",
    "      f = funcs.pop()\n",
    "      x, y = f.input, f.output\n",
    "      x.grad = f.backward(y.grad)\n",
    "      \n",
    "      # 1つ前の関数をリストに追加する。\n",
    "      if x.creator is not None:\n",
    "        funcs.append(x.creator)"
   ]
  },
  {
   "cell_type": "code",
   "execution_count": 18,
   "metadata": {},
   "outputs": [
    {
     "ename": "TypeError",
     "evalue": "<class 'float'> is not supported",
     "output_type": "error",
     "traceback": [
      "\u001b[0;31m---------------------------------------------------------------------------\u001b[0m",
      "\u001b[0;31mTypeError\u001b[0m                                 Traceback (most recent call last)",
      "Cell \u001b[0;32mIn[18], line 3\u001b[0m\n\u001b[1;32m      1\u001b[0m x \u001b[38;5;241m=\u001b[39m Variable(np\u001b[38;5;241m.\u001b[39marray(\u001b[38;5;241m1.0\u001b[39m))\n\u001b[1;32m      2\u001b[0m x \u001b[38;5;241m=\u001b[39m Variable(\u001b[38;5;28;01mNone\u001b[39;00m)\n\u001b[0;32m----> 3\u001b[0m x \u001b[38;5;241m=\u001b[39m \u001b[43mVariable\u001b[49m\u001b[43m(\u001b[49m\u001b[38;5;241;43m1.0\u001b[39;49m\u001b[43m)\u001b[49m\n",
      "Cell \u001b[0;32mIn[17], line 19\u001b[0m, in \u001b[0;36mVariable.__init__\u001b[0;34m(self, data)\u001b[0m\n\u001b[1;32m     17\u001b[0m \u001b[38;5;28;01mif\u001b[39;00m data \u001b[38;5;129;01mis\u001b[39;00m \u001b[38;5;129;01mnot\u001b[39;00m \u001b[38;5;28;01mNone\u001b[39;00m:\n\u001b[1;32m     18\u001b[0m   \u001b[38;5;28;01mif\u001b[39;00m \u001b[38;5;129;01mnot\u001b[39;00m \u001b[38;5;28misinstance\u001b[39m(data, np\u001b[38;5;241m.\u001b[39mndarray):\n\u001b[0;32m---> 19\u001b[0m     \u001b[38;5;28;01mraise\u001b[39;00m \u001b[38;5;167;01mTypeError\u001b[39;00m(\u001b[38;5;124m'\u001b[39m\u001b[38;5;132;01m{}\u001b[39;00m\u001b[38;5;124m is not supported\u001b[39m\u001b[38;5;124m'\u001b[39m\u001b[38;5;241m.\u001b[39mformat(\u001b[38;5;28mtype\u001b[39m(data)))\n\u001b[1;32m     21\u001b[0m \u001b[38;5;28mself\u001b[39m\u001b[38;5;241m.\u001b[39mdata \u001b[38;5;241m=\u001b[39m data\n\u001b[1;32m     22\u001b[0m \u001b[38;5;28mself\u001b[39m\u001b[38;5;241m.\u001b[39mgrad \u001b[38;5;241m=\u001b[39m \u001b[38;5;28;01mNone\u001b[39;00m\n",
      "\u001b[0;31mTypeError\u001b[0m: <class 'float'> is not supported"
     ]
    }
   ],
   "source": [
    "x = Variable(np.array(1.0))\n",
    "x = Variable(None)\n",
    "x = Variable(1.0)"
   ]
  },
  {
   "cell_type": "code",
   "execution_count": 19,
   "metadata": {},
   "outputs": [],
   "source": [
    "def as_array(x):\n",
    "  if np.isscalar(x):\n",
    "    return np.array(x)\n",
    "  return x"
   ]
  },
  {
   "cell_type": "code",
   "execution_count": 20,
   "metadata": {},
   "outputs": [],
   "source": [
    "class Function:\n",
    "  \"\"\" 関数クラス\n",
    "  \n",
    "  関数の基底クラスとして、全ての関数に共通する機能を実装する。\n",
    "  具体的な関数は Function クラスを継承したクラスで実装する。  \n",
    "  \"\"\"\n",
    "  def __call__(self, input):\n",
    "    \"\"\" 関数の実行\n",
    "    \n",
    "    継承クラスにて実装した関数を実行する。\n",
    "    \n",
    "    Args:\n",
    "      input(Variable): 関数の入力値\n",
    "    \n",
    "    Returns:\n",
    "      Variable: 関数の実行結果    \n",
    "    \"\"\" \n",
    "    x = input.data # データを取り出す。\n",
    "    y = self.forward(x) # 具体的な計算は forward メソッドで行う。\n",
    "    output = Variable(as_array(y)) # Variable として返却する。\n",
    "    output.set_creator(self) # 出力変数に自分自身の関数を設定する。\n",
    "    # 入出力変数を保持しておく。\n",
    "    self.input = input \n",
    "    self.output = output \n",
    "    return output\n",
    "  \n",
    "  def forward(self, x):\n",
    "    \"\"\" 関数のメソッド\n",
    "    \n",
    "    継承したクラスで実装すること。\n",
    "    \n",
    "    Args:\n",
    "      x(Variable): 関数の入力値\n",
    "    \n",
    "    Raises:\n",
    "      NotImplementedError: forward メソッドを実装せずに実行した場合に発生する。    \n",
    "    \"\"\"\n",
    "    raise NotImplementedError()\n",
    "  \n",
    "  def backward(self, gy):\n",
    "    \"\"\" 逆伝播(バックプロパゲーション)用のメソッド\n",
    "    \n",
    "    継承したクラスで実装すること。\n",
    "\n",
    "    Args:\n",
    "      gy(Variable): 出力側から伝わる微分の値\n",
    "          \n",
    "    Raises:\n",
    "      NotImplementedError: forward メソッドを実装せずに実行した場合に発生する。    \n",
    "    \"\"\"\n",
    "    raise NotImplementedError()"
   ]
  },
  {
   "cell_type": "code",
   "execution_count": 11,
   "metadata": {},
   "outputs": [],
   "source": [
    "class Square(Function):\n",
    "  \"\"\" 二乗計算クラス\n",
    "  \n",
    "  入力値の二乗を計算する。\n",
    "  \"\"\"\n",
    "  def forward(self, x):\n",
    "    \"\"\" 二乗計算\n",
    "  \n",
    "    入力値の二乗を計算する。\n",
    "    \n",
    "    Args:\n",
    "      x(Variable): 入力値\n",
    "    \n",
    "    Returns:\n",
    "      Variable: 二乗した結果\n",
    "    \"\"\"\n",
    "    y = x ** 2\n",
    "    return y\n",
    "\n",
    "  def backward(self, gy):\n",
    "    \"\"\" 二乗計算の逆伝播メソッド\n",
    "    \n",
    "    二乗計算の逆伝播として、出力側から渡される微分 (gy) と y=x^2 の微分を掛ける。\n",
    "    \n",
    "    Args:\n",
    "      x(Variable): 出力側から伝わる微分の値\n",
    "    \n",
    "    Returns:\n",
    "      Variable: 二乗計算のバックプロパゲーション結果\n",
    "    \"\"\"\n",
    "    x = self.input.data\n",
    "    gx = 2 * x * gy\n",
    "    return gx\n",
    "\n",
    "def square(x):\n",
    "  return Square()(x)\n"
   ]
  },
  {
   "cell_type": "code",
   "execution_count": 10,
   "metadata": {},
   "outputs": [],
   "source": [
    "class Exp(Function):\n",
    "  \"\"\" EXP 関数\n",
    "  \n",
    "  e を底とする数値のべき乗を計算する。  \n",
    "  y = e^x の実装 (e はネイピア数 2.718...)\n",
    "  \"\"\"  \n",
    "  def forward(self, x):\n",
    "    \"\"\" e のべき乗を計算する。\n",
    "  \n",
    "    自然対数 e を入力値でべき乗する。\n",
    "    \n",
    "    Args:\n",
    "      x(Variable): 入力値\n",
    "    \n",
    "    Returns:\n",
    "      Variable: e を x でべき乗した結果\n",
    "    \"\"\"\n",
    "    y = np.exp(x)\n",
    "    return y\n",
    "  \n",
    "  def backward(self, gy):\n",
    "    \"\"\" e のべき乗の逆伝播メソッド\n",
    "    \n",
    "    e のべき乗の逆伝播として、出力側から渡される微分 (gy) と e^x の微分である e^x を掛ける。\n",
    "    \n",
    "    Args:\n",
    "      x(Variable): 出力側から伝わる微分の値\n",
    "    \n",
    "    Returns:\n",
    "      Variable: e のべき乗のバックプロパゲーション結果\n",
    "    \"\"\"\n",
    "    x = self.input.data\n",
    "    gx = np.exp(x) * gy\n",
    "    return gx\n",
    "\n",
    "def exp(x):\n",
    "  return Exp()(x)"
   ]
  },
  {
   "cell_type": "code",
   "execution_count": 13,
   "metadata": {},
   "outputs": [
    {
     "data": {
      "text/plain": [
       "np.float64(3.297442541400256)"
      ]
     },
     "execution_count": 13,
     "metadata": {},
     "output_type": "execute_result"
    }
   ],
   "source": [
    "# A = Square()\n",
    "# B = Exp()\n",
    "# C = Square()\n",
    "\n",
    "# x =Variable(np.array(0.5))\n",
    "# a = A(x)\n",
    "# b = B(a)\n",
    "# y = C(b)\n",
    "# print(y.data)\n",
    "\n",
    "# assert y.creator == C\n",
    "# assert y.creator.input == b\n",
    "# assert y.creator.input.creator == B\n",
    "# assert y.creator.input.creator.input == a\n",
    "# assert y.creator.input.creator.input.creator == A\n",
    "# assert y.creator.input.creator.input.creator.input == x\n",
    "\n",
    "x =Variable(np.array(0.5))\n",
    "a = square(x)\n",
    "b = exp(a)\n",
    "y = square(b)\n",
    "\n",
    "y.grad = np.array(1.0)\n",
    "y.backward()\n",
    "x.grad\n",
    "\n"
   ]
  },
  {
   "cell_type": "code",
   "execution_count": 16,
   "metadata": {},
   "outputs": [
    {
     "data": {
      "text/plain": [
       "np.float64(3.297442541400256)"
      ]
     },
     "execution_count": 16,
     "metadata": {},
     "output_type": "execute_result"
    }
   ],
   "source": [
    "x =Variable(np.array(0.5))\n",
    "y = square(exp(square(x)))\n",
    "\n",
    "#y.grad = np.array(1.0)\n",
    "y.backward()\n",
    "x.grad"
   ]
  },
  {
   "cell_type": "code",
   "execution_count": 65,
   "metadata": {},
   "outputs": [],
   "source": [
    "def numerical_diff(f, x, eps=1e-4):\n",
    "  \"\"\" 数値微分\n",
    "  中心差分近似で数値微分を求める。\n",
    "  {f(x+h) - f(x-h)} / 2h\n",
    "  \n",
    "  Args:\n",
    "    f (Function): 微分の対象となる関数\n",
    "    x (Variable): 微分を求める変数\n",
    "    eps (float, optional): 微小な数値 (初期値は 1e-4)\n",
    "\n",
    "  Returns:\n",
    "    float: 数値微分の結果\n",
    "  \"\"\"\n",
    "  x0 = Variable(x.data - eps)\n",
    "  x1 = Variable(x.data + eps)\n",
    "  y0 = f(x0)\n",
    "  y1 = f(x1)\n",
    "\n",
    "  return (y1.data - y0.data) / (2 * eps)"
   ]
  },
  {
   "cell_type": "code",
   "execution_count": 21,
   "metadata": {},
   "outputs": [],
   "source": [
    "# 逆伝播を試す\n",
    "# 順伝播: x -> A -> a -> B -> b -> C -> y\n",
    "# 逆伝播: y -> creator C -> input b -> creator B -> input a -> creator A -> input x\n",
    "\n",
    "y.grad = np.array(1.0)\n",
    "y.backward()\n",
    "x.grad"
   ]
  }
 ],
 "metadata": {
  "kernelspec": {
   "display_name": "Python 3",
   "language": "python",
   "name": "python3"
  },
  "language_info": {
   "codemirror_mode": {
    "name": "ipython",
    "version": 3
   },
   "file_extension": ".py",
   "mimetype": "text/x-python",
   "name": "python",
   "nbconvert_exporter": "python",
   "pygments_lexer": "ipython3",
   "version": "3.10.12"
  }
 },
 "nbformat": 4,
 "nbformat_minor": 2
}
